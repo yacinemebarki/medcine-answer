{
 "cells": [
  {
   "cell_type": "code",
   "execution_count": 1,
   "id": "909b955d",
   "metadata": {},
   "outputs": [],
   "source": [
    "import pandas as pd   \n"
   ]
  },
  {
   "cell_type": "markdown",
   "id": "2570697e",
   "metadata": {},
   "source": []
  },
  {
   "cell_type": "code",
   "execution_count": 2,
   "id": "065c7256",
   "metadata": {},
   "outputs": [
    {
     "data": {
      "text/html": [
       "<div>\n",
       "<style scoped>\n",
       "    .dataframe tbody tr th:only-of-type {\n",
       "        vertical-align: middle;\n",
       "    }\n",
       "\n",
       "    .dataframe tbody tr th {\n",
       "        vertical-align: top;\n",
       "    }\n",
       "\n",
       "    .dataframe thead th {\n",
       "        text-align: right;\n",
       "    }\n",
       "</style>\n",
       "<table border=\"1\" class=\"dataframe\">\n",
       "  <thead>\n",
       "    <tr style=\"text-align: right;\">\n",
       "      <th></th>\n",
       "      <th>qtype</th>\n",
       "      <th>Question</th>\n",
       "      <th>Answer</th>\n",
       "    </tr>\n",
       "  </thead>\n",
       "  <tbody>\n",
       "    <tr>\n",
       "      <th>0</th>\n",
       "      <td>susceptibility</td>\n",
       "      <td>Who is at risk for Lymphocytic Choriomeningiti...</td>\n",
       "      <td>LCMV infections can occur after exposure to fr...</td>\n",
       "    </tr>\n",
       "    <tr>\n",
       "      <th>1</th>\n",
       "      <td>symptoms</td>\n",
       "      <td>What are the symptoms of Lymphocytic Choriomen...</td>\n",
       "      <td>LCMV is most commonly recognized as causing ne...</td>\n",
       "    </tr>\n",
       "    <tr>\n",
       "      <th>2</th>\n",
       "      <td>susceptibility</td>\n",
       "      <td>Who is at risk for Lymphocytic Choriomeningiti...</td>\n",
       "      <td>Individuals of all ages who come into contact ...</td>\n",
       "    </tr>\n",
       "    <tr>\n",
       "      <th>3</th>\n",
       "      <td>exams and tests</td>\n",
       "      <td>How to diagnose Lymphocytic Choriomeningitis (...</td>\n",
       "      <td>During the first phase of the disease, the mos...</td>\n",
       "    </tr>\n",
       "    <tr>\n",
       "      <th>4</th>\n",
       "      <td>treatment</td>\n",
       "      <td>What are the treatments for Lymphocytic Chorio...</td>\n",
       "      <td>Aseptic meningitis, encephalitis, or meningoen...</td>\n",
       "    </tr>\n",
       "    <tr>\n",
       "      <th>...</th>\n",
       "      <td>...</td>\n",
       "      <td>...</td>\n",
       "      <td>...</td>\n",
       "    </tr>\n",
       "    <tr>\n",
       "      <th>16402</th>\n",
       "      <td>symptoms</td>\n",
       "      <td>What are the symptoms of Familial visceral myo...</td>\n",
       "      <td>What are the signs and symptoms of Familial vi...</td>\n",
       "    </tr>\n",
       "    <tr>\n",
       "      <th>16403</th>\n",
       "      <td>information</td>\n",
       "      <td>What is (are) Pseudopelade of Brocq ?</td>\n",
       "      <td>Pseudopelade of Brocq (PBB) is a slowly progre...</td>\n",
       "    </tr>\n",
       "    <tr>\n",
       "      <th>16404</th>\n",
       "      <td>symptoms</td>\n",
       "      <td>What are the symptoms of Pseudopelade of Brocq ?</td>\n",
       "      <td>What are the signs and symptoms of Pseudopelad...</td>\n",
       "    </tr>\n",
       "    <tr>\n",
       "      <th>16405</th>\n",
       "      <td>treatment</td>\n",
       "      <td>What are the treatments for Pseudopelade of Br...</td>\n",
       "      <td>Is there treatment or a cure for pseudopelade ...</td>\n",
       "    </tr>\n",
       "    <tr>\n",
       "      <th>16406</th>\n",
       "      <td>information</td>\n",
       "      <td>What is (are) Desmoplastic small round cell tu...</td>\n",
       "      <td>Desmoplastic small round cell tumors (DSRCT), ...</td>\n",
       "    </tr>\n",
       "  </tbody>\n",
       "</table>\n",
       "<p>16407 rows × 3 columns</p>\n",
       "</div>"
      ],
      "text/plain": [
       "                 qtype                                           Question  \\\n",
       "0       susceptibility  Who is at risk for Lymphocytic Choriomeningiti...   \n",
       "1             symptoms  What are the symptoms of Lymphocytic Choriomen...   \n",
       "2       susceptibility  Who is at risk for Lymphocytic Choriomeningiti...   \n",
       "3      exams and tests  How to diagnose Lymphocytic Choriomeningitis (...   \n",
       "4            treatment  What are the treatments for Lymphocytic Chorio...   \n",
       "...                ...                                                ...   \n",
       "16402         symptoms  What are the symptoms of Familial visceral myo...   \n",
       "16403      information              What is (are) Pseudopelade of Brocq ?   \n",
       "16404         symptoms   What are the symptoms of Pseudopelade of Brocq ?   \n",
       "16405        treatment  What are the treatments for Pseudopelade of Br...   \n",
       "16406      information  What is (are) Desmoplastic small round cell tu...   \n",
       "\n",
       "                                                  Answer  \n",
       "0      LCMV infections can occur after exposure to fr...  \n",
       "1      LCMV is most commonly recognized as causing ne...  \n",
       "2      Individuals of all ages who come into contact ...  \n",
       "3      During the first phase of the disease, the mos...  \n",
       "4      Aseptic meningitis, encephalitis, or meningoen...  \n",
       "...                                                  ...  \n",
       "16402  What are the signs and symptoms of Familial vi...  \n",
       "16403  Pseudopelade of Brocq (PBB) is a slowly progre...  \n",
       "16404  What are the signs and symptoms of Pseudopelad...  \n",
       "16405  Is there treatment or a cure for pseudopelade ...  \n",
       "16406  Desmoplastic small round cell tumors (DSRCT), ...  \n",
       "\n",
       "[16407 rows x 3 columns]"
      ]
     },
     "execution_count": 2,
     "metadata": {},
     "output_type": "execute_result"
    }
   ],
   "source": [
    "df=pd.read_csv(\"train.csv\")\n",
    "df"
   ]
  },
  {
   "cell_type": "code",
   "execution_count": 3,
   "id": "5877c5eb",
   "metadata": {},
   "outputs": [
    {
     "name": "stdout",
     "output_type": "stream",
     "text": [
      "<class 'pandas.core.frame.DataFrame'>\n",
      "RangeIndex: 16407 entries, 0 to 16406\n",
      "Data columns (total 3 columns):\n",
      " #   Column    Non-Null Count  Dtype \n",
      "---  ------    --------------  ----- \n",
      " 0   qtype     16407 non-null  object\n",
      " 1   Question  16407 non-null  object\n",
      " 2   Answer    16407 non-null  object\n",
      "dtypes: object(3)\n",
      "memory usage: 384.7+ KB\n"
     ]
    }
   ],
   "source": [
    "df.info()"
   ]
  },
  {
   "cell_type": "code",
   "execution_count": 4,
   "id": "0f14f4ba",
   "metadata": {},
   "outputs": [],
   "source": [
    "from sklearn.model_selection import train_test_split"
   ]
  },
  {
   "cell_type": "code",
   "execution_count": 5,
   "id": "d096487d",
   "metadata": {},
   "outputs": [],
   "source": [
    "from sklearn.feature_extraction.text import TfidfVectorizer"
   ]
  },
  {
   "cell_type": "code",
   "execution_count": 6,
   "id": "9d710ffc",
   "metadata": {},
   "outputs": [],
   "source": [
    "x=df[\"Question\"]\n",
    "y=df[\"Answer\"]\n",
    "x_train,x_test,y_train,y_test=train_test_split(x,y,test_size=0.3,random_state=42)"
   ]
  },
  {
   "cell_type": "code",
   "execution_count": 7,
   "id": "5946593c",
   "metadata": {},
   "outputs": [],
   "source": [
    "vec=TfidfVectorizer()\n",
    "xTrain_vec=vec.fit_transform(x_train)\n",
    "xTest_vec=vec.transform(x_test)"
   ]
  },
  {
   "cell_type": "code",
   "execution_count": 8,
   "id": "d9033c0e",
   "metadata": {},
   "outputs": [],
   "source": [
    "from sklearn.metrics.pairwise import cosine_similarity"
   ]
  },
  {
   "cell_type": "code",
   "execution_count": 9,
   "id": "f6a495fd",
   "metadata": {},
   "outputs": [
    {
     "name": "stdout",
     "output_type": "stream",
     "text": [
      "                                               question  \\\n",
      "0     What are the treatments for High Blood Pressure ?   \n",
      "1     What are the treatments for 21-hydroxylase def...   \n",
      "2                      How to diagnose Fanconi Anemia ?   \n",
      "3     How many people are affected by glutaric acide...   \n",
      "4     how is hps diagnosed and treated for Hantavirus ?   \n",
      "...                                                 ...   \n",
      "4918              What is the outlook for Anencephaly ?   \n",
      "4919        What are the symptoms of Paragangliomas 4 ?   \n",
      "4920            What are the treatments for Psoriasis ?   \n",
      "4921  What are the symptoms of Say-Field-Coldwell sy...   \n",
      "4922  what research (or clinical trials) is being do...   \n",
      "\n",
      "                                             prediction  \\\n",
      "0     High blood pressure is treated with lifestyle ...   \n",
      "1     These resources address the diagnosis or manag...   \n",
      "2     Fanconi anemia is a condition that affects man...   \n",
      "3     Glutaric acidemia type II is a very rare disor...   \n",
      "4     The \"First\"Outbreak\\n  \\nIn May 1993, an outbr...   \n",
      "...                                                 ...   \n",
      "4918  Anencephaly is a defect in the closure of the ...   \n",
      "4919  What are the signs and symptoms of Paraganglio...   \n",
      "4920  The goals of psoriasis treatment are to change...   \n",
      "4921  What are the signs and symptoms of Barber Say ...   \n",
      "4922  The NINDS supports and conducts research on ne...   \n",
      "\n",
      "                                              the right  \\\n",
      "0     Today, many different types of medicines are a...   \n",
      "1     What is the goal for treating 21-hydroxylase-d...   \n",
      "2     People who have Fanconi anemia (FA) are born w...   \n",
      "3     Glutaric acidemia type I occurs in approximate...   \n",
      "4     Diagnosing HPS\\n  \\nDiagnosing HPS in an indiv...   \n",
      "...                                                 ...   \n",
      "4918  The prognosis for babies born with anencephaly...   \n",
      "4919  What are the signs and symptoms of Paraganglio...   \n",
      "4920  For many people, natural treatments can help r...   \n",
      "4921  What are the signs and symptoms of Say-Field-C...   \n",
      "4922  The National Institute of Neurological Disorde...   \n",
      "\n",
      "                                                  score  \n",
      "0     [0.0, 0.03171771360780802, 0.04485446808539847...  \n",
      "1     [0.0, 0.03239708091452412, 0.04581521385522782...  \n",
      "2     [0.12368628265787857, 0.0, 0.0, 0.0, 0.0, 0.0,...  \n",
      "3     [0.053954322316787845, 0.014860475629518378, 0...  \n",
      "4     [0.040201060432023206, 0.022182335572915546, 0...  \n",
      "...                                                 ...  \n",
      "4918  [0.0, 0.057357051054576454, 0.1800948073655477...  \n",
      "4919  [0.0, 0.03623940026391276, 0.02345975884876774...  \n",
      "4920  [0.0, 0.044430380741634495, 0.0628324323638243...  \n",
      "4921  [0.0, 0.03803153057601985, 0.05481321081137925...  \n",
      "4922  [0.0, 0.034039470256531326, 0.0495461779409480...  \n",
      "\n",
      "[4923 rows x 4 columns]\n"
     ]
    }
   ],
   "source": [
    "i=0\n",
    "result=[]\n",
    "for test in xTest_vec :\n",
    "    value=cosine_similarity(test,xTrain_vec)[0]\n",
    "    position=value.argmax()\n",
    "    \n",
    "    result.append({\n",
    "        \"question\":x_test.iloc[i],\n",
    "        \"prediction\":y_train.iloc[position],\n",
    "        \"the right\":y_test.iloc[i],\n",
    "        \"score\":value\n",
    "    })\n",
    "    i=i+1\n",
    "result=pd.DataFrame(result)\n",
    "print(result)    \n",
    "\n"
   ]
  },
  {
   "cell_type": "code",
   "execution_count": 10,
   "id": "2f608ab0",
   "metadata": {},
   "outputs": [
    {
     "data": {
      "text/html": [
       "<div>\n",
       "<style scoped>\n",
       "    .dataframe tbody tr th:only-of-type {\n",
       "        vertical-align: middle;\n",
       "    }\n",
       "\n",
       "    .dataframe tbody tr th {\n",
       "        vertical-align: top;\n",
       "    }\n",
       "\n",
       "    .dataframe thead th {\n",
       "        text-align: right;\n",
       "    }\n",
       "</style>\n",
       "<table border=\"1\" class=\"dataframe\">\n",
       "  <thead>\n",
       "    <tr style=\"text-align: right;\">\n",
       "      <th></th>\n",
       "      <th>question</th>\n",
       "      <th>prediction</th>\n",
       "      <th>the right</th>\n",
       "      <th>score</th>\n",
       "    </tr>\n",
       "  </thead>\n",
       "  <tbody>\n",
       "    <tr>\n",
       "      <th>0</th>\n",
       "      <td>What are the treatments for High Blood Pressure ?</td>\n",
       "      <td>High blood pressure is treated with lifestyle ...</td>\n",
       "      <td>Today, many different types of medicines are a...</td>\n",
       "      <td>[0.0, 0.03171771360780802, 0.04485446808539847...</td>\n",
       "    </tr>\n",
       "    <tr>\n",
       "      <th>1</th>\n",
       "      <td>What are the treatments for 21-hydroxylase def...</td>\n",
       "      <td>These resources address the diagnosis or manag...</td>\n",
       "      <td>What is the goal for treating 21-hydroxylase-d...</td>\n",
       "      <td>[0.0, 0.03239708091452412, 0.04581521385522782...</td>\n",
       "    </tr>\n",
       "    <tr>\n",
       "      <th>2</th>\n",
       "      <td>How to diagnose Fanconi Anemia ?</td>\n",
       "      <td>Fanconi anemia is a condition that affects man...</td>\n",
       "      <td>People who have Fanconi anemia (FA) are born w...</td>\n",
       "      <td>[0.12368628265787857, 0.0, 0.0, 0.0, 0.0, 0.0,...</td>\n",
       "    </tr>\n",
       "    <tr>\n",
       "      <th>3</th>\n",
       "      <td>How many people are affected by glutaric acide...</td>\n",
       "      <td>Glutaric acidemia type II is a very rare disor...</td>\n",
       "      <td>Glutaric acidemia type I occurs in approximate...</td>\n",
       "      <td>[0.053954322316787845, 0.014860475629518378, 0...</td>\n",
       "    </tr>\n",
       "    <tr>\n",
       "      <th>4</th>\n",
       "      <td>how is hps diagnosed and treated for Hantavirus ?</td>\n",
       "      <td>The \"First\"Outbreak\\n  \\nIn May 1993, an outbr...</td>\n",
       "      <td>Diagnosing HPS\\n  \\nDiagnosing HPS in an indiv...</td>\n",
       "      <td>[0.040201060432023206, 0.022182335572915546, 0...</td>\n",
       "    </tr>\n",
       "  </tbody>\n",
       "</table>\n",
       "</div>"
      ],
      "text/plain": [
       "                                            question  \\\n",
       "0  What are the treatments for High Blood Pressure ?   \n",
       "1  What are the treatments for 21-hydroxylase def...   \n",
       "2                   How to diagnose Fanconi Anemia ?   \n",
       "3  How many people are affected by glutaric acide...   \n",
       "4  how is hps diagnosed and treated for Hantavirus ?   \n",
       "\n",
       "                                          prediction  \\\n",
       "0  High blood pressure is treated with lifestyle ...   \n",
       "1  These resources address the diagnosis or manag...   \n",
       "2  Fanconi anemia is a condition that affects man...   \n",
       "3  Glutaric acidemia type II is a very rare disor...   \n",
       "4  The \"First\"Outbreak\\n  \\nIn May 1993, an outbr...   \n",
       "\n",
       "                                           the right  \\\n",
       "0  Today, many different types of medicines are a...   \n",
       "1  What is the goal for treating 21-hydroxylase-d...   \n",
       "2  People who have Fanconi anemia (FA) are born w...   \n",
       "3  Glutaric acidemia type I occurs in approximate...   \n",
       "4  Diagnosing HPS\\n  \\nDiagnosing HPS in an indiv...   \n",
       "\n",
       "                                               score  \n",
       "0  [0.0, 0.03171771360780802, 0.04485446808539847...  \n",
       "1  [0.0, 0.03239708091452412, 0.04581521385522782...  \n",
       "2  [0.12368628265787857, 0.0, 0.0, 0.0, 0.0, 0.0,...  \n",
       "3  [0.053954322316787845, 0.014860475629518378, 0...  \n",
       "4  [0.040201060432023206, 0.022182335572915546, 0...  "
      ]
     },
     "execution_count": 10,
     "metadata": {},
     "output_type": "execute_result"
    }
   ],
   "source": [
    "result.head()"
   ]
  },
  {
   "cell_type": "code",
   "execution_count": 11,
   "id": "e09cef04",
   "metadata": {},
   "outputs": [],
   "source": [
    "result.to_csv(\"results.csv\", index=False)"
   ]
  },
  {
   "cell_type": "code",
   "execution_count": 12,
   "id": "7c49e313",
   "metadata": {},
   "outputs": [
    {
     "data": {
      "text/html": [
       "<div>\n",
       "<style scoped>\n",
       "    .dataframe tbody tr th:only-of-type {\n",
       "        vertical-align: middle;\n",
       "    }\n",
       "\n",
       "    .dataframe tbody tr th {\n",
       "        vertical-align: top;\n",
       "    }\n",
       "\n",
       "    .dataframe thead th {\n",
       "        text-align: right;\n",
       "    }\n",
       "</style>\n",
       "<table border=\"1\" class=\"dataframe\">\n",
       "  <thead>\n",
       "    <tr style=\"text-align: right;\">\n",
       "      <th></th>\n",
       "      <th>question</th>\n",
       "      <th>prediction</th>\n",
       "      <th>the right</th>\n",
       "      <th>score</th>\n",
       "    </tr>\n",
       "  </thead>\n",
       "  <tbody>\n",
       "    <tr>\n",
       "      <th>4918</th>\n",
       "      <td>What is the outlook for Anencephaly ?</td>\n",
       "      <td>Anencephaly is a defect in the closure of the ...</td>\n",
       "      <td>The prognosis for babies born with anencephaly...</td>\n",
       "      <td>[0.0, 0.057357051054576454, 0.1800948073655477...</td>\n",
       "    </tr>\n",
       "    <tr>\n",
       "      <th>4919</th>\n",
       "      <td>What are the symptoms of Paragangliomas 4 ?</td>\n",
       "      <td>What are the signs and symptoms of Paraganglio...</td>\n",
       "      <td>What are the signs and symptoms of Paraganglio...</td>\n",
       "      <td>[0.0, 0.03623940026391276, 0.02345975884876774...</td>\n",
       "    </tr>\n",
       "    <tr>\n",
       "      <th>4920</th>\n",
       "      <td>What are the treatments for Psoriasis ?</td>\n",
       "      <td>The goals of psoriasis treatment are to change...</td>\n",
       "      <td>For many people, natural treatments can help r...</td>\n",
       "      <td>[0.0, 0.044430380741634495, 0.0628324323638243...</td>\n",
       "    </tr>\n",
       "    <tr>\n",
       "      <th>4921</th>\n",
       "      <td>What are the symptoms of Say-Field-Coldwell sy...</td>\n",
       "      <td>What are the signs and symptoms of Barber Say ...</td>\n",
       "      <td>What are the signs and symptoms of Say-Field-C...</td>\n",
       "      <td>[0.0, 0.03803153057601985, 0.05481321081137925...</td>\n",
       "    </tr>\n",
       "    <tr>\n",
       "      <th>4922</th>\n",
       "      <td>what research (or clinical trials) is being do...</td>\n",
       "      <td>The NINDS supports and conducts research on ne...</td>\n",
       "      <td>The National Institute of Neurological Disorde...</td>\n",
       "      <td>[0.0, 0.034039470256531326, 0.0495461779409480...</td>\n",
       "    </tr>\n",
       "  </tbody>\n",
       "</table>\n",
       "</div>"
      ],
      "text/plain": [
       "                                               question  \\\n",
       "4918              What is the outlook for Anencephaly ?   \n",
       "4919        What are the symptoms of Paragangliomas 4 ?   \n",
       "4920            What are the treatments for Psoriasis ?   \n",
       "4921  What are the symptoms of Say-Field-Coldwell sy...   \n",
       "4922  what research (or clinical trials) is being do...   \n",
       "\n",
       "                                             prediction  \\\n",
       "4918  Anencephaly is a defect in the closure of the ...   \n",
       "4919  What are the signs and symptoms of Paraganglio...   \n",
       "4920  The goals of psoriasis treatment are to change...   \n",
       "4921  What are the signs and symptoms of Barber Say ...   \n",
       "4922  The NINDS supports and conducts research on ne...   \n",
       "\n",
       "                                              the right  \\\n",
       "4918  The prognosis for babies born with anencephaly...   \n",
       "4919  What are the signs and symptoms of Paraganglio...   \n",
       "4920  For many people, natural treatments can help r...   \n",
       "4921  What are the signs and symptoms of Say-Field-C...   \n",
       "4922  The National Institute of Neurological Disorde...   \n",
       "\n",
       "                                                  score  \n",
       "4918  [0.0, 0.057357051054576454, 0.1800948073655477...  \n",
       "4919  [0.0, 0.03623940026391276, 0.02345975884876774...  \n",
       "4920  [0.0, 0.044430380741634495, 0.0628324323638243...  \n",
       "4921  [0.0, 0.03803153057601985, 0.05481321081137925...  \n",
       "4922  [0.0, 0.034039470256531326, 0.0495461779409480...  "
      ]
     },
     "execution_count": 12,
     "metadata": {},
     "output_type": "execute_result"
    }
   ],
   "source": [
    "result.tail()"
   ]
  },
  {
   "cell_type": "code",
   "execution_count": 13,
   "id": "997ea218",
   "metadata": {},
   "outputs": [],
   "source": [
    "import re\n",
    "def clean_text(text):\n",
    "    text = str(text)\n",
    "    text = text.lower()\n",
    "    text = re.sub(r'[^\\w\\s]', '', text)\n",
    "    text = re.sub(r'\\s+', ' ', text).strip()\n",
    "    return text\n",
    "\n"
   ]
  },
  {
   "cell_type": "code",
   "execution_count": 19,
   "id": "d55855f3",
   "metadata": {},
   "outputs": [],
   "source": [
    "df[\"Question\"] = df[\"Question\"].apply(clean_text)\n",
    "question=vec.transform(df[\"Question\"])\n",
    "answers=df[\"Answer\"]\n",
    "def answer(qes):\n",
    "    qes=clean_text(qes)\n",
    "    qes=vec.transform([qes])\n",
    "    value=cosine_similarity(qes,question)[0]\n",
    "    pos=value.argmax()\n",
    "    print(\"the answer is :\", answers.iloc[pos])\n",
    "    print(value[pos])\n"
   ]
  },
  {
   "cell_type": "code",
   "execution_count": 20,
   "id": "1102e43d",
   "metadata": {},
   "outputs": [
    {
     "name": "stdout",
     "output_type": "stream",
     "text": [
      "the answer is : Your doctor will diagnosecoronary heart disease(CHD) based on your medical and family histories, your risk factors, a physical exam, and the results from tests and procedures.\n",
      "                \n",
      "No single test can diagnose CHD. If your doctor thinks you have CHD, he or she may recommend one or more of the following tests.\n",
      "                \n",
      "EKG (Electrocardiogram)\n",
      "                \n",
      "An EKGis a simple, painless test that detects and records the heart's electrical activity. The test shows how fast the heart is beating and its rhythm (steady or irregular). An EKG also records the strength and timing of electrical signals as they pass through the heart.\n",
      "                \n",
      "An EKG can show signs of heart damage due to CHD and signs of a previous or current heart attack.\n",
      "                \n",
      "Stress Testing\n",
      "                \n",
      "Duringstress testing,you exercise to make your heart work hard and beat fast while heart tests are done. If you can't exercise, you may be given medicines to increase your heart rate.\n",
      "                \n",
      "When your heart is working hard and beating fast, it needs more blood and oxygen. Plaque-narrowed coronary (heart) arteries can't supply enough oxygen-rich blood to meet your heart's needs.\n",
      "                \n",
      "A stress test can show possible signs and symptoms of CHD, such as:\n",
      "                \n",
      "Abnormal changes in your heart rate or blood pressure\n",
      "                \n",
      "Shortness of breath or chest pain\n",
      "                \n",
      "Abnormal changes in your heart rhythm or your heart's electrical activity\n",
      "                \n",
      "If you can't exercise for as long as what is considered normal for someone your age, your heart may not be getting enough oxygen-rich blood. However, other factors also can prevent you from exercising long enough (for example, lung diseases,anemia, or poor general fitness).\n",
      "                \n",
      "As part of some stress tests, pictures are taken of your heart while you exercise and while you rest. These imaging stress tests can show how well blood is flowing in your heart and how well your heart pumps blood when it beats.\n",
      "                \n",
      "Echocardiography\n",
      "                \n",
      "Echocardiography (echo) uses sound waves to create a moving picture of your heart. The test provides information about the size and shape of your heart and how well your heart chambers and valves are working.\n",
      "                \n",
      "Echo also can show areas of poor blood flow to the heart, areas of heart muscle that aren't contracting normally, and previous injury to the heart muscle caused by poor blood flow.\n",
      "                \n",
      "Chest X Ray\n",
      "                \n",
      "Achest x raycreates pictures of the organs and structures inside your chest, such as your heart, lungs, and blood vessels.\n",
      "                \n",
      "A chest x ray can reveal signs ofheart failure, as well as lung disorders and other causes of symptoms not related to CHD.\n",
      "                \n",
      "Blood Tests\n",
      "                \n",
      "Blood tests check the levels of certain fats, cholesterol, sugar, and proteins in your blood. Abnormal levels may be a sign that you're at risk for CHD. Blood tests also help detectanemia,a risk factor for CHD.\n",
      "                \n",
      "During a heart attack, heart muscle cells die and release proteins into the bloodstream. Blood tests can measure the amount of these proteins in the bloodstream. High levels of these proteins are a sign of a recent heart attack.\n",
      "                \n",
      "Coronary Angiography and Cardiac Catheterization\n",
      "                \n",
      "Your doctor may recommendcoronary angiography(an-jee-OG-rah-fee) if other tests or factors suggest you have CHD. This test uses dye and special x rays to look inside your coronary arteries.\n",
      "                \n",
      "To get the dye into your coronary arteries, your doctor will use a procedure calledcardiac catheterization(KATH-eh-ter-ih-ZA-shun).\n",
      "                \n",
      "A thin, flexible tube called a catheter is put into a blood vessel in your arm, groin (upper thigh), or neck. The tube is threaded into your coronary arteries, and the dye is released into your bloodstream.\n",
      "                \n",
      "Special x rays are taken while the dye is flowing through your coronary arteries. The dye lets your doctor study the flow of blood through your heart and blood vessels.\n",
      "                \n",
      "Coronary angiography detects blockages in the large coronary arteries. However, the test doesn't detectcoronary microvascular disease(MVD). This is because coronary MVD doesn't cause blockages in the large coronary arteries.\n",
      "                \n",
      "Even if the results of your coronary angiography are normal, you may still have chest pain or other CHD symptoms. If so, talk with your doctor about whether you might have coronary MVD.\n",
      "                \n",
      "Your doctor may ask you to fill out a questionnaire called the Duke Activity Status Index. This questionnaire measures how easily you can do routine tasks. It gives your doctor information about how well blood is flowing through your coronary arteries.\n",
      "                \n",
      "Your doctor also may recommend other tests that measure blood flow in the heart, such as acardiac MRI (magnetic resonance imaging) stress test.\n",
      "                \n",
      "Cardiac MRI uses radio waves, magnets, and a computer to create pictures of your heart as it beats. The test produces both still and moving pictures of your heart and major blood vessels.\n",
      "                \n",
      "Other tests done during cardiac catheterization can check blood flow in the heart's small arteries and the thickness of the artery walls.\n",
      "                \n",
      "Tests Used To Diagnose Broken Heart Syndrome\n",
      "                \n",
      "If your doctor thinks you have broken heart syndrome, he or she may recommend coronary angiography. Other tests are also used to diagnose this disorder, including blood tests, EKG, echo, and cardiac MRI.\n",
      "0.38050666084800794\n"
     ]
    }
   ],
   "source": [
    "answer(\"Can pregnant women pass LCM to their fetus?\")"
   ]
  },
  {
   "cell_type": "code",
   "execution_count": 21,
   "id": "74e1ed94",
   "metadata": {},
   "outputs": [
    {
     "name": "stdout",
     "output_type": "stream",
     "text": [
      "the answer is : Too Much Glucose in the Blood Diabetes means your blood glucose (often called blood sugar) is too high. Your blood always has some glucose in it because your body needs glucose for energy to keep you going. But too much glucose in the blood isn't good for your health. Glucose comes from the food you eat and is also made in your liver and muscles. Your blood carries the glucose to all of the cells in your body. Insulin is a chemical (a hormone) made by the pancreas. The pancreas releases insulin into the blood. Insulin helps the glucose from food get into your cells. If your body does not make enough insulin or if the insulin doesn't work the way it should, glucose can't get into your cells. It stays in your blood instead. Your blood glucose level then gets too high, causing pre-diabetes or diabetes. Types of Diabetes There are three main kinds of diabetes: type 1, type 2, and gestational diabetes. The result of type 1 and type 2 diabetes is the same: glucose builds up in the blood, while the cells are starved of energy. Over the years, high blood glucose damages nerves and blood vessels, oftentimes leading to complications such as heart disease, stroke, blindness, kidney disease, nerve problems, gum infections, and amputation. Type 1 Diabetes Type 1 diabetes, which used to be called called juvenile diabetes or insulin-dependent diabetes, develops most often in young people. However, type 1 diabetes can also develop in adults. With this form of diabetes, your body no longer makes insulin or doesnt make enough insulin because your immune system has attacked and destroyed the insulin-producing cells. About 5 to 10 percent of people with diabetes have type 1 diabetes. To survive, people with type 1 diabetes must have insulin delivered by injection or a pump. Learn more about type 1 diabetes here. Type 2 Diabetes Type 2 diabetes, which used to be called adult-onset diabetes or non insulin-dependent diabetes, is the most common form of diabetes. Although people can develop type 2 diabetes at any age -- even during childhood -- type 2 diabetes develops most often in middle-aged and older people. Type 2 diabetes usually begins with insulin resistancea condition that occurs when fat, muscle, and liver cells do not use insulin to carry glucose into the bodys cells to use for energy. As a result, the body needs more insulin to help glucose enter cells. At first, the pancreas keeps up with the added demand by making more insulin. Over time, the pancreas doesnt make enough insulin when blood sugar levels increase, such as after meals. If your pancreas can no longer make enough insulin, you will need to treat your type 2 diabetes. Learn more about type 2 diabetes here. Gestational Diabetes Some women develop gestational diabetes during the late stages of pregnancy. Gestational diabetes is caused by the hormones of pregnancy or a shortage of insulin. Although this form of diabetes usually goes away after the baby is born, a woman who has had it and her child are more likely to develop diabetes later in life. Prediabetes Prediabetes means your blood glucose levels are higher than normal but not high enough for a diagnosis of diabetes. People with prediabetes are at an increased risk for developing type 2 diabetes and for heart disease and stroke. The good news is that if you have prediabetes, you can reduce your risk of getting type 2 diabetes. With modest weight loss and moderate physical activity, you can delay or prevent type 2 diabetes.  Learn more about prediabetes here.  Signs of Diabetes Many people with diabetes experience one or more symptoms, including extreme thirst or hunger, a frequent need to urinate and/or fatigue. Some lose weight without trying. Additional signs include sores that heal slowly, dry, itchy skin, loss of feeling or tingling in the feet and blurry eyesight. Some people with diabetes, however, have no symptoms at all. How Many Have Diabetes? Nearly 29 million Americans age 20 or older (12.3 percent of all people in this age group) have diabetes, according to 2014 estimates from the Centers for Disease Control and Prevention (CDC). About 1.9 million people aged 20 years or older were newly diagnosed with diabetes in 2010 alone. People can get diabetes at any age, but the risk increases as we get older. In 2014, over 11 million older adults living in the U.S -- nearly 26 percent of people 65 or older -- had diabetes. See more statistics about diabetes from the  National Diabetes Statistics Report 2014. (Centers for Disease Control and Prevention.) If Diabetes is Not Managed Diabetes is a very serious disease. Over time, diabetes that is not well managed causes serious damage to the eyes, kidneys, nerves, heart, gums and teeth. If you have diabetes, you are more likely than people without diabetes to have heart disease or a stroke. People with diabetes also tend to develop heart disease or stroke at an earlier age than others. The best way to protect yourself from the serious complications of diabetes is to manage your blood glucose, blood pressure and cholesterol and to avoid smoking. It is not always easy, but people who make an ongoing effort to manage their diabetes can greatly improve their overall health.\n",
      "0.9739296942443668\n"
     ]
    }
   ],
   "source": [
    "answer([\"what is diabetes?\"])"
   ]
  },
  {
   "cell_type": "code",
   "execution_count": 22,
   "id": "066fba6c",
   "metadata": {},
   "outputs": [
    {
     "name": "stdout",
     "output_type": "stream",
     "text": [
      "the answer is : Type A insulin resistance syndrome is a rare disorder characterized by severe insulin resistance, a condition in which the body's tissues and organs do not respond properly to the hormone insulin. Insulin normally helps regulate blood sugar levels by controlling how much sugar (in the form of glucose) is passed from the bloodstream into cells to be used as energy. In people with type A insulin resistance syndrome, insulin resistance impairs blood sugar regulation and ultimately leads to a condition called diabetes mellitus, in which blood sugar levels can become dangerously high.  Severe insulin resistance also underlies the other signs and symptoms of type A insulin resistance syndrome. In affected females, the major features of the condition become apparent in adolescence. Many affected females do not begin menstruation by age 16 (primary amenorrhea) or their periods may be light and irregular (oligomenorrhea). They develop cysts on the ovaries and excessive body hair growth (hirsutism). Most affected females also develop a skin condition called acanthosis nigricans, in which the skin in body folds and creases becomes thick, dark, and velvety. Unlike most people with insulin resistance, females with type A insulin resistance syndrome are usually not overweight.  The features of type A insulin resistance syndrome are more subtle in affected males. Some males have low blood sugar (hypoglycemia) as the only sign; others may also have acanthosis nigricans. In many cases, males with this condition come to medical attention only when they develop diabetes mellitus in adulthood.  Type A insulin resistance syndrome is one of a group of related conditions described as inherited severe insulin resistance syndromes. These disorders, which also include Donohue syndrome and Rabson-Mendenhall syndrome, are considered part of a spectrum. Type A insulin resistance syndrome represents the mildest end of the spectrum: its features often do not become apparent until puberty or later, and it is generally not life-threatening.\n",
      "0.6507227277217903\n"
     ]
    }
   ],
   "source": [
    "answer([\"what is the insulin?\"])"
   ]
  },
  {
   "cell_type": "code",
   "execution_count": 25,
   "id": "594ca4e5",
   "metadata": {},
   "outputs": [
    {
     "name": "stdout",
     "output_type": "stream",
     "text": [
      "the answer is : On this Page General Information about VISA/VRSA What is Staphylococcus aureus? How do VISA and VRSA get their names? What should a patient do if they suspect they have a Staph, MRSA, VISA, or VRSA infection? Are VISA and VRSA infections treatable? How can the spread of VISA and VRSA be prevented? What should a person do if a family member or close friend has VISA or VRSA? What is CDC doing to address VISA and VRSA? Recommendations and Guidelines General Information about VISA/VRSA For more images of this bacterium, search the Public Health Image Library Vancomycin [van−kō−mī−sin]-intermediate Staphylococcus aureus [staff−u−lu−kaw−kus  aw−ree−us] (also called VISA) and Vancomycin-resistant Staphylococcus aureus (also called VRSA) are specific types of antimicrobial-resistant bacteria. However, as of October 2010, all VISA and VRSA isolates have been susceptible to other Food and Drug Administration (FDA)-approved drugs. Persons who develop this type of staph infection may have underlying health conditions (such as diabetes and kidney disease), tubes going into their bodies (such as catheters), previous infections with methicillin-resistant Staphylococcus aureus (MRSA), and recent exposure to vancomycin and other antimicrobial agents. What is Staphylococcus aureus? Staphylococcus aureus is a bacterium commonly found on the skin and in the nose of about 30% of individuals. Most of the time, staph does not cause any harm. These infections can look like pimples, boils, or other skin conditions and most are able to be treated. Sometimes staph bacteria can get into the bloodstream and cause serious infections which can be fatal, including: Bacteremia or sepsis when bacteria spread to the bloodstream usually as a result of using catheters or having surgery. Pneumonia which predominantly affects people with underlying lung disease including those on mechanical ventilators. Endocarditis (infection of the heart valves) which can lead to heart failure. Osteomyelitis (bone infection) which can be caused by staph bacteria traveling in the bloodstream or put there by direct contact such as following trauma (puncture wound of foot or intravenous (IV) drug abuse). Top of page How do VISA and VRSA get their names? Staph bacteria are classified as VISA or VRSA based on laboratory tests. Laboratories perform tests to determine if staph bacteria are resistant to antimicrobial agents that might be used for treatment of infections. For vancomycin and other antimicrobial agents, laboratories determine how much of the agent it requires to inhibit the growth of the organism in a test tube. The result of the test is usually expressed as a minimum inhibitory concentration (MIC) or the minimum amount of antimicrobial agent that inhibits bacterial growth in the test tube. Therefore, staph bacteria are classified as VISA if the MIC for vancomycin is 4-8µg/ml, and classified as VRSA if the vancomycin MIC is ≥16µg/ml. Top of page What should a patient do if they suspect they have a staph, MRSA, VISA, or VRSA infection? See a healthcare provider. Top of page Are VISA and VRSA infections treatable? Yes. As of October 2010, all VISA and VRSA isolates have been susceptible to several Food and Drug Administration (FDA)-approved drugs. Top of page How can the spread of VISA and VRSA be prevented? Use of appropriate infection control practices (such as wearing gloves before and after contact with infectious body substances and adherence to hand hygiene) by healthcare personnel can reduce the spread of VISA and VRSA. Top of page What should a person do if a family member or close friend has VISA or VRSA? VISA and VRSA are types of antibiotic-resistant staph bacteria. Therefore, as with all staph bacteria, spread occurs among people having close physical contact with infected patients or contaminated material, such as bandages. Persons having close physical contact with infected patients while they are outside of the healthcare setting should: (1) keep their hands clean by washing thoroughly with soap and water, and (2) avoid contact with other people's wounds or material contaminated from wounds. If they go to the hospital to visit a friend or family member who is infected with VISA or VRSA , they must follow the hospital's recommended precautions. Top of page What is CDC doing to address VISA and VRSA? In addition to providing guidance for clinicians and infection control personnel, CDC is also working with state and local health agencies, healthcare facilities, and clinical microbiology laboratories to ensure that laboratories are using proper methods to detect VISA and VRSA. Top of page Recommendations and Guidelines CDC issued a Clinical Reminder, in 2010, which serves as a reminder about the important role of clinical laboratories in the diagnosis of VRSA cases to ensure prompt recognition, isolation, and management by infection control personnel. Investigation and Control of Vancomycin-Resistant Staphylococcus aureus (VRSA) [PDF - 300 KB] - This document is a guide to conducting a public health investigation of patients from whom vancomycin-resistant Staphylococcus aureus (VRSA, vancomycin MIC ≥ 16 µg/ml) has been isolated. The information reflects the experience gained from field investigations of the first fourteen VRSA identified in the United States. Top of page\n",
      "0.8630663283081808\n"
     ]
    }
   ],
   "source": [
    "answer([\"what is diabete\"])"
   ]
  },
  {
   "cell_type": "code",
   "execution_count": 23,
   "id": "60e04fd2",
   "metadata": {},
   "outputs": [],
   "source": [
    "import pickle\n",
    "pickle.dump(vec, open(\"tfidf_vectorizer.pkl\", \"wb\"))\n",
    "pickle.dump(df, open(\"faq_data.pkl\", \"wb\"))\n"
   ]
  }
 ],
 "metadata": {
  "kernelspec": {
   "display_name": "Python 3.13 (MyEnv)",
   "language": "python",
   "name": "python313-env"
  },
  "language_info": {
   "codemirror_mode": {
    "name": "ipython",
    "version": 3
   },
   "file_extension": ".py",
   "mimetype": "text/x-python",
   "name": "python",
   "nbconvert_exporter": "python",
   "pygments_lexer": "ipython3",
   "version": "3.13.1"
  }
 },
 "nbformat": 4,
 "nbformat_minor": 5
}
